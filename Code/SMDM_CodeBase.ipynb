{
  "nbformat": 4,
  "nbformat_minor": 0,
  "metadata": {
    "colab": {
      "name": "SMDM CodeBase.ipynb",
      "provenance": [],
      "collapsed_sections": []
    },
    "kernelspec": {
      "name": "python3",
      "display_name": "Python 3"
    },
    "language_info": {
      "name": "python"
    }
  },
  "cells": [
    {
      "cell_type": "markdown",
      "metadata": {
        "id": "D5DA7c0VKSYX"
      },
      "source": [
        "**Sarcasm Target Detection Codebase**"
      ]
    },
    {
      "cell_type": "code",
      "metadata": {
        "colab": {
          "resources": {
            "http://localhost:8080/nbextensions/google.colab/files.js": {
              "data": "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",
              "ok": true,
              "headers": [
                [
                  "content-type",
                  "application/javascript"
                ]
              ],
              "status": 200,
              "status_text": ""
            }
          },
          "base_uri": "https://localhost:8080/",
          "height": 106
        },
        "id": "f_dmEBsSBf8M",
        "outputId": "c29e8f9a-7e4a-4775-e9aa-2ea89628293f"
      },
      "source": [
        "# Upload 'snippets.xlsx' from the local file system.\n",
        "from google.colab import files\n",
        "uploaded = files.upload()\n",
        "for fn in uploaded.keys():\n",
        "  print('User uploaded file \"{name}\" with length {length} bytes'.format(\n",
        "      name=fn, length=len(uploaded[fn])))"
      ],
      "execution_count": null,
      "outputs": [
        {
          "output_type": "display_data",
          "data": {
            "text/html": [
              "\n",
              "     <input type=\"file\" id=\"files-2d4bf390-f68d-4681-a975-621e6d83aa8e\" name=\"files[]\" multiple disabled\n",
              "        style=\"border:none\" />\n",
              "     <output id=\"result-2d4bf390-f68d-4681-a975-621e6d83aa8e\">\n",
              "      Upload widget is only available when the cell has been executed in the\n",
              "      current browser session. Please rerun this cell to enable.\n",
              "      </output>\n",
              "      <script src=\"/nbextensions/google.colab/files.js\"></script> "
            ],
            "text/plain": [
              "<IPython.core.display.HTML object>"
            ]
          },
          "metadata": {
            "tags": []
          }
        },
        {
          "output_type": "stream",
          "text": [
            "Saving snippets.xlsx to snippets.xlsx\n",
            "User uploaded file \"snippets.xlsx\" with length 28027 bytes\n"
          ],
          "name": "stdout"
        }
      ]
    },
    {
      "cell_type": "code",
      "metadata": {
        "id": "lu-Fvr38C2Ho",
        "colab": {
          "base_uri": "https://localhost:8080/"
        },
        "outputId": "d1401539-c262-4c00-f599-eb32ac52fc14"
      },
      "source": [
        "# Mount google drive to use 'crawl-300d-2M.vec'. \n",
        "from google.colab import drive\n",
        "drive.mount('/gdrive')"
      ],
      "execution_count": null,
      "outputs": [
        {
          "output_type": "stream",
          "text": [
            "Mounted at /gdrive\n"
          ],
          "name": "stdout"
        }
      ]
    },
    {
      "cell_type": "code",
      "metadata": {
        "id": "LweGufCtKzba",
        "colab": {
          "base_uri": "https://localhost:8080/",
          "height": 363
        },
        "outputId": "5d0beaed-e80d-409b-f7ac-a02a3cbb44ab"
      },
      "source": [
        "# Import basic maths and processing libraries.\n",
        "import pandas as pd\n",
        "import numpy as np\n",
        "\n",
        "# A RegexpTokenizer splits a string into substrings using a regular expression.\n",
        "from nltk.tokenize import RegexpTokenizer \n",
        "from nltk.tokenize.treebank import TreebankWordDetokenizer\n",
        "\n",
        "from keras.layers import Dense ,LSTM,concatenate,Input,Flatten\n",
        "from keras.models import Model\n",
        "from keras.callbacks import EarlyStopping\n",
        "from keras.optimizers import Adam\n",
        "\n",
        "import pickle\n",
        "import codecs"
      ],
      "execution_count": null,
      "outputs": [
        {
          "output_type": "error",
          "ename": "ModuleNotFoundError",
          "evalue": "ignored",
          "traceback": [
            "\u001b[0;31m---------------------------------------------------------------------------\u001b[0m",
            "\u001b[0;31mModuleNotFoundError\u001b[0m                       Traceback (most recent call last)",
            "\u001b[0;32m<ipython-input-21-35717afa9f31>\u001b[0m in \u001b[0;36m<module>\u001b[0;34m()\u001b[0m\n\u001b[1;32m      7\u001b[0m \u001b[0;32mfrom\u001b[0m \u001b[0mnltk\u001b[0m\u001b[0;34m.\u001b[0m\u001b[0mtokenize\u001b[0m\u001b[0;34m.\u001b[0m\u001b[0mtreebank\u001b[0m \u001b[0;32mimport\u001b[0m \u001b[0mTreebankWordDetokenizer\u001b[0m\u001b[0;34m\u001b[0m\u001b[0;34m\u001b[0m\u001b[0m\n\u001b[1;32m      8\u001b[0m \u001b[0;34m\u001b[0m\u001b[0m\n\u001b[0;32m----> 9\u001b[0;31m \u001b[0;32mfrom\u001b[0m \u001b[0mLiwc_Trie\u001b[0m \u001b[0;32mimport\u001b[0m \u001b[0mLiwc_Trie_Node\u001b[0m\u001b[0;34m\u001b[0m\u001b[0;34m\u001b[0m\u001b[0m\n\u001b[0m\u001b[1;32m     10\u001b[0m \u001b[0;34m\u001b[0m\u001b[0m\n\u001b[1;32m     11\u001b[0m \u001b[0;32mfrom\u001b[0m \u001b[0mkeras\u001b[0m\u001b[0;34m.\u001b[0m\u001b[0mlayers\u001b[0m \u001b[0;32mimport\u001b[0m \u001b[0mDense\u001b[0m \u001b[0;34m,\u001b[0m\u001b[0mLSTM\u001b[0m\u001b[0;34m,\u001b[0m\u001b[0mconcatenate\u001b[0m\u001b[0;34m,\u001b[0m\u001b[0mInput\u001b[0m\u001b[0;34m,\u001b[0m\u001b[0mFlatten\u001b[0m\u001b[0;34m\u001b[0m\u001b[0;34m\u001b[0m\u001b[0m\n",
            "\u001b[0;31mModuleNotFoundError\u001b[0m: No module named 'Liwc_Trie'",
            "",
            "\u001b[0;31m---------------------------------------------------------------------------\u001b[0;32m\nNOTE: If your import is failing due to a missing package, you can\nmanually install dependencies using either !pip or !apt.\n\nTo view examples of installing some common dependencies, click the\n\"Open Examples\" button below.\n\u001b[0;31m---------------------------------------------------------------------------\u001b[0m\n"
          ]
        }
      ]
    },
    {
      "cell_type": "code",
      "metadata": {
        "id": "m2npgiN0QQNS"
      },
      "source": [
        "tokenizer = RegexpTokenizer(r'\\w+') # try removing r\n",
        "detokenizer = TreebankWordDetokenizer()\n",
        "# Excel file contains no header column and names gives custom column names\n",
        "df = pd.read_excel(\"snippets.xlsx\", sheet_name=None, header=None, names=['Snippet','target'])\n",
        "df = df['Sheet1']\n",
        "embedding_file = '/gdrive/MyDrive/crawl-300d-2M.vec'"
      ],
      "execution_count": null,
      "outputs": []
    },
    {
      "cell_type": "code",
      "metadata": {
        "id": "ggbf5YYgjyQI"
      },
      "source": [
        "def clearLine(line):\n",
        "  cleanedLine = ''\n",
        "  for letter in line:\n",
        "    if letter == '?' or letter == '!' or letter == ',' or letter == '\"' or letter == '-' or letter == ';' or letter == '.' or ord(letter) > 255 :\n",
        "      cleanedLine += ' '\n",
        "    else:\n",
        "      cleanedLine += letter\n",
        "  return cleanedLine"
      ],
      "execution_count": null,
      "outputs": []
    },
    {
      "cell_type": "code",
      "metadata": {
        "id": "OQlSp4C5TtL1"
      },
      "source": [
        "def loadEmbed():\n",
        "    print('loading word embeddings...')\n",
        "    embeddings_index = {}\n",
        "    f = codecs.open(embedding_file, encoding='utf-8')\n",
        "    for line in f:\n",
        "        # Line has the format : Word val1 val2 val3 ..... val300\n",
        "        values = line.rstrip().rsplit(' ')\n",
        "        word = values[0]\n",
        "        coefs = np.asarray(values[1:], dtype='float32')\n",
        "        embeddings_index[word] = coefs\n",
        "    f.close()\n",
        "    print('found %s word vectors' % len(embeddings_index))\n",
        "    return embeddings_index"
      ],
      "execution_count": null,
      "outputs": []
    },
    {
      "cell_type": "code",
      "metadata": {
        "id": "Cv6yMkNMgP9u",
        "colab": {
          "base_uri": "https://localhost:8080/"
        },
        "outputId": "f609ab94-896a-4958-8840-6d3706445416"
      },
      "source": [
        "# Loading pre-trained embeddings\n",
        "model=loadEmbed()"
      ],
      "execution_count": null,
      "outputs": [
        {
          "output_type": "stream",
          "text": [
            "loading word embeddings...\n",
            "found 1999996 word vectors\n"
          ],
          "name": "stdout"
        }
      ]
    },
    {
      "cell_type": "code",
      "metadata": {
        "id": "RPext8rQigyp"
      },
      "source": [
        "# Stores all distinct words in the dataset.\n",
        "all_words=[]\n",
        "\n",
        "for i in range(len(df['Snippet'])):\n",
        "    line = clearLine(df['Snippet'][i])\n",
        "    all_words.extend(line.split())\n",
        "\n",
        "# get all unique words from the dataset\n",
        "all_words=list(dict.fromkeys(all_words))\n",
        "\n",
        "# make all words to lowercase\n",
        "all_words=[x.lower() for x in all_words]"
      ],
      "execution_count": null,
      "outputs": []
    },
    {
      "cell_type": "code",
      "metadata": {
        "id": "yC4I9QzPiomu"
      },
      "source": [
        "# Stores the vector representations of the words from the dataset.\n",
        "embeddings={}\n",
        "for each in all_words:\n",
        "    # Get vectors for words in the dataset\n",
        "    if each not in model.keys(): \n",
        "        embeddings[each]=model['unk']\n",
        "    else:\n",
        "        embeddings[each]=model[each]\n",
        "\n",
        "embeddings['<pad>'] = [O]*300\n",
        "embeddings['<start>'] = model[\"start\"]\n",
        "embeddings['<end>'] = model[\"end\"]"
      ],
      "execution_count": null,
      "outputs": []
    },
    {
      "cell_type": "code",
      "metadata": {
        "id": "1FzhEcqOI0Cq"
      },
      "source": [
        "# Prepare the left context, right context, and candidate word from the dataset.\n",
        "# Pre-Processed Data (ppd)\n",
        "\n",
        "ppd = {}\n",
        "ppd['left_context'] = []\n",
        "ppd['right_context'] = []\n",
        "ppd['Candidate_word'] = []\n",
        "ppd['target_status'] = []\n",
        "\n",
        "for i in range(len(df['Snippet'])):\n",
        "  line = clearLine(df['Snippet'][i].lower());\n",
        "  line = line.split()\n",
        "  targetList = df['target'][i].lower().split(\",\")\n",
        "  targetWord = []\n",
        "  for tl in targetList:\n",
        "    targetWord.extend(tl.split())\n",
        "  \n",
        "  for i in range(len(line)):\n",
        "    word = line[i]\n",
        "    ppd['Candidate_word'].append(word)\n",
        "    ppd['left_context'].append([\"<start>\"] + line[:i])\n",
        "    ppd['right_context'].append(line[i+1:] + [\"<end>\"])\n",
        "    ppd['target_status'].append(int(word in targetWord))"
      ],
      "execution_count": null,
      "outputs": []
    },
    {
      "cell_type": "code",
      "metadata": {
        "id": "Ov65vnKME1Wv"
      },
      "source": [
        "# Embedding Left Context\n",
        "keras_left_context = []\n",
        "for i in range(len(ppd['left_context'])):\n",
        "    one_vector = []\n",
        "    temp = ppd['left_context'][i]\n",
        "    for m in temp:\n",
        "        one_vector.append(embeddings[m])\n",
        "    one_vector.extend([embeddings['<pad>'] for x in range(78 - len(ppd['left_context'][i]))])\n",
        "    keras_left_context.append(one_vector)"
      ],
      "execution_count": null,
      "outputs": []
    },
    {
      "cell_type": "code",
      "metadata": {
        "id": "EjUxOeBUH49B"
      },
      "source": [
        "# Embedding Right Context \n",
        "keras_right_context = []\n",
        "for i in range(len(ppd['right_context'])):\n",
        "    one_vector = []\n",
        "    temp = ppd['right_context'][i]\n",
        "    for m in temp:\n",
        "        one_vector.append(embeddings[m])\n",
        "    one_vector.extend([embeddings['<pad>'] for x in range(78 - len(ppd['right_context'][i]))])\n",
        "    keras_right_context.append(one_vector)"
      ],
      "execution_count": null,
      "outputs": []
    },
    {
      "cell_type": "code",
      "metadata": {
        "id": "f5ehP344Ic1y"
      },
      "source": [
        "# Embedding Candidate Word\n",
        "keras_middle = []\n",
        "for i in range(len(ppd['Candidate_words'])):\n",
        "    keras_middle.append(embeddings[ppd['Candidate_words'][i]])\n",
        "\n",
        "labels = ppd['target_status']"
      ],
      "execution_count": null,
      "outputs": []
    },
    {
      "cell_type": "code",
      "metadata": {
        "id": "Won77S-7IypK"
      },
      "source": [
        "#Saving the processed dataset in a pickle file\n",
        "# f = open(b\"Data_fast.pkl\",\"wb\")\n",
        "# pickle.dump(zip(keras_left_context,keras_right_context,keras_middle,ppd['target_status']),f)"
      ],
      "execution_count": null,
      "outputs": []
    },
    {
      "cell_type": "markdown",
      "metadata": {
        "id": "pnjqrsqaRPb8"
      },
      "source": [
        "LIWC Trie Functions"
      ]
    },
    {
      "cell_type": "code",
      "metadata": {
        "colab": {
          "base_uri": "https://localhost:8080/",
          "height": 363
        },
        "id": "Re0Pf2TUROzj",
        "outputId": "34d0e91f-1248-4b24-9f75-18ef2d30706d"
      },
      "source": [
        "class LiwcTrieNode(object):\n",
        "    def __init__(self, char: str):\n",
        "        self.char = char\n",
        "        self.word_finished = False\n",
        "        self.children = []\n",
        "\n",
        "def create_trie(liwc_dict):\n",
        "\tT = Liwc_Trie_Node()\n",
        "\tfor category, words in liwc_dict.items():\n",
        "\t\t# print category, \"starting\"\n",
        "\t\tfor word in words:\n",
        "\t\t\tinsert_word(T, word, category)\n",
        "\t\t\t# print \"\\t\", word.encode(\"utf-8\"), \"inserted\"\n",
        "\t\t# print category, \"done\"\n",
        "\treturn T\n",
        "\n",
        "def insert_word(T, word, category):\n",
        "\tif word[len(word) - 1] != \"*\":\n",
        "\t\tword = word + \"$\"\n",
        "\tt = T\n",
        "\ti = 0\n",
        "\twhile i < len(word):\n",
        "\t\tmatch = False\n",
        "\t\tfor child in t.children:\n",
        "\t\t\tif child.character == word[i]:\n",
        "\t\t\t\tmatch = True\n",
        "\t\t\t\tt = child\n",
        "\t\t\t\tbreak\n",
        "\t\tif match == False:\n",
        "\t\t\tbreak\n",
        "\t\telse:\n",
        "\t\t\ti = i + 1\n",
        "\twhile i < len(word):\n",
        "\t\tchild = Liwc_Trie_Node()\n",
        "\t\tchild.character = word[i]\n",
        "\t\tt.children.append(child)\n",
        "\t\tt = child\n",
        "\t\ti = i + 1\n",
        "\tt.categories.add(category)\n",
        "\n",
        "def get_liwc_categories(T, word):\n",
        "\tt = T\n",
        "\tcategories = set([])\n",
        "\ti = 0\n",
        "\tword = word + \"$\"\n",
        "\twhile i < len(word):\n",
        "\t\tmatch = False\n",
        "\t\tfor child in t.children:\n",
        "\t\t\tif child.character == \"*\":\n",
        "\t\t\t\tcategories = categories.union(child.categories)\n",
        "\t\t\telif child.character == word[i]:\n",
        "\t\t\t\tmatch = True\n",
        "\t\t\t\tt = child\n",
        "\t\t\t\tbreak\n",
        "\t\tif match == False:\n",
        "\t\t\tbreak\n",
        "\t\telse:\n",
        "\t\t\ti = i + 1\n",
        "\tif i == len(word):\n",
        "\t\tcategories = categories.union(t.categories)\n",
        "\treturn categories\n"
      ],
      "execution_count": null,
      "outputs": [
        {
          "output_type": "error",
          "ename": "ModuleNotFoundError",
          "evalue": "ignored",
          "traceback": [
            "\u001b[0;31m---------------------------------------------------------------------------\u001b[0m",
            "\u001b[0;31mModuleNotFoundError\u001b[0m                       Traceback (most recent call last)",
            "\u001b[0;32m<ipython-input-20-f200e763aa17>\u001b[0m in \u001b[0;36m<module>\u001b[0;34m()\u001b[0m\n\u001b[0;32m----> 1\u001b[0;31m \u001b[0;32mfrom\u001b[0m \u001b[0mLiwc_Trie\u001b[0m \u001b[0;32mimport\u001b[0m \u001b[0mLiwc_Trie_Node\u001b[0m\u001b[0;34m\u001b[0m\u001b[0;34m\u001b[0m\u001b[0m\n\u001b[0m\u001b[1;32m      2\u001b[0m \u001b[0;34m\u001b[0m\u001b[0m\n\u001b[1;32m      3\u001b[0m \u001b[0;32mdef\u001b[0m \u001b[0mcreate_trie\u001b[0m\u001b[0;34m(\u001b[0m\u001b[0mliwc_dict\u001b[0m\u001b[0;34m)\u001b[0m\u001b[0;34m:\u001b[0m\u001b[0;34m\u001b[0m\u001b[0;34m\u001b[0m\u001b[0m\n\u001b[1;32m      4\u001b[0m         \u001b[0mT\u001b[0m \u001b[0;34m=\u001b[0m \u001b[0mLiwc_Trie_Node\u001b[0m\u001b[0;34m(\u001b[0m\u001b[0;34m)\u001b[0m\u001b[0;34m\u001b[0m\u001b[0;34m\u001b[0m\u001b[0m\n\u001b[1;32m      5\u001b[0m         \u001b[0;32mfor\u001b[0m \u001b[0mcategory\u001b[0m\u001b[0;34m,\u001b[0m \u001b[0mwords\u001b[0m \u001b[0;32min\u001b[0m \u001b[0mliwc_dict\u001b[0m\u001b[0;34m.\u001b[0m\u001b[0mitems\u001b[0m\u001b[0;34m(\u001b[0m\u001b[0;34m)\u001b[0m\u001b[0;34m:\u001b[0m\u001b[0;34m\u001b[0m\u001b[0;34m\u001b[0m\u001b[0m\n",
            "\u001b[0;31mModuleNotFoundError\u001b[0m: No module named 'Liwc_Trie'",
            "",
            "\u001b[0;31m---------------------------------------------------------------------------\u001b[0;32m\nNOTE: If your import is failing due to a missing package, you can\nmanually install dependencies using either !pip or !apt.\n\nTo view examples of installing some common dependencies, click the\n\"Open Examples\" button below.\n\u001b[0;31m---------------------------------------------------------------------------\u001b[0m\n"
          ]
        }
      ]
    },
    {
      "cell_type": "markdown",
      "metadata": {
        "id": "62vxErvmRAFA"
      },
      "source": [
        "Socio-Linguistic Feature Extraction\n"
      ]
    },
    {
      "cell_type": "code",
      "metadata": {
        "id": "17MyiJkvRG6u"
      },
      "source": [
        ""
      ],
      "execution_count": null,
      "outputs": []
    },
    {
      "cell_type": "markdown",
      "metadata": {
        "id": "28iw-AYwJCHr"
      },
      "source": [
        "Model\n"
      ]
    },
    {
      "cell_type": "code",
      "metadata": {
        "id": "hiJjjBC-I_yl"
      },
      "source": [
        "# Tuned-Hyper Parameters\n",
        "embed_size = 1024\n",
        "hidden_size = 32\n",
        "num_epochs=30\n",
        "layer_size = 16\n",
        "batch_size = 64\n",
        "\n",
        "# 'Uni' : Unidirectional LSTM  |  'Bi' : Bidirectional LSTM  | 'TD' : Target-dependent LSTM\n",
        "mode = 'Uni' \n",
        "augmentation = False"
      ],
      "execution_count": null,
      "outputs": []
    },
    {
      "cell_type": "code",
      "metadata": {
        "id": "iN1wcrRWKt8E"
      },
      "source": [
        "# Function to group together candidate-words belonging to the same line.\n",
        "def compress():\n",
        "    lengths = []\n",
        "    for i in range (1,len(ppd['left_context'])):\n",
        "        # If left context contains only '<start>'\n",
        "        if len(ppd['left_context'][i]) == 1:\n",
        "            lengths.append(i)\n",
        "    lengths.append(len(ppd['left_context']))\n",
        "    compressor = []\n",
        "    compressor.append(range(lengths[0]))\n",
        "    for i in range (1,len(lengths)):\n",
        "        compressor.append(range(lengths[i-1],lengths[i]))\n",
        "    return compressor"
      ],
      "execution_count": null,
      "outputs": []
    },
    {
      "cell_type": "code",
      "metadata": {
        "id": "nNWYsrPpP0es"
      },
      "source": [
        "comp = compress()"
      ],
      "execution_count": null,
      "outputs": []
    },
    {
      "cell_type": "code",
      "metadata": {
        "id": "AUUEUouCNQmb"
      },
      "source": [
        "# Training Data, Test Data Preparation\n",
        "\n",
        "def prep (train_indices, test_indices):\n",
        "    print (len(train_indices), len(test_indices))\n",
        "\n",
        "    # Ungroup training dataset candidate-words belonging to the same line.\n",
        "    train_ids = []\n",
        "    for i in range(len(train_indices)):\n",
        "        train_ids.extend(comp[train_indices[i]])\n",
        "\n",
        "    # Ungroup testing dataset candidate-words belonging to the same line.\n",
        "    test_ids = []\n",
        "    for i in range(len(test_indices)):\n",
        "        test_ids.extend(comp[test_indices[i]])\n",
        "\n",
        "    # Training Data Preparation\n",
        "    train_left   = []\n",
        "    train_right  = []\n",
        "    train_middle = []\n",
        "    train_labels = []\n",
        "    train_pos_vec= []\n",
        "    train_neg_vec= []\n",
        "    train_liwc_vec=[]\n",
        "    train_empath_vec=[]\n",
        "\n",
        "    for id in train_ids:\n",
        "        train_left.append(keras_left_context[id])\n",
        "        train_right.append(keras_right_context[id])\n",
        "        train_middle.append(keras_middle[id])\n",
        "        train_labels.append(labels[id])\n",
        "        train_pos_vec.append(pos_vec[id])\n",
        "        train_neg_vec.append(ner_vec[id])\n",
        "        train_liwc_vec.append(liwc_vec[id])\n",
        "        train_empath_vec.append(empath_vec[id])\n",
        "\n",
        "    train_left   = np.array(train_left)\n",
        "    train_right  = np.array(train_right)\n",
        "    train_middle = np.array(train_middle)\n",
        "    train_labels = np.array(train_labels)\n",
        "    train_middle = np.expand_dims(train_middle,axis=1)\n",
        "    train_pos_vec= np.array(train_pos_vec)\n",
        "    train_neg_vec= np.array(train_neg_vec)\n",
        "    train_liwc_vec= np.array(train_liwc_vec)\n",
        "    train_empath_vec= np.array(train_empath_vec)\n",
        "\n",
        "    # Training Data Preparion\n",
        "    val_left   = []\n",
        "    val_right  = []\n",
        "    val_middle = []\n",
        "    val_labels = []\n",
        "    val_pos_vec= []\n",
        "    val_neg_vec= []\n",
        "    val_liwc_vec=[]\n",
        "    val_empath_vec=[]\n",
        "\n",
        "    for id in test_ids:\n",
        "        val_left.append(keras_left_context[id])\n",
        "        val_right.append(keras_right_context[id])\n",
        "        val_middle.append(keras_middle[id])\n",
        "        val_labels.append(labels[id])\n",
        "        val_pos_vec.append(pos_vec[id])\n",
        "        val_ner_vec.append(ner_vec[id])\n",
        "        val_liwc_vec.append(liwc_vec[id])\n",
        "        val_empath_vec.append(empath_vec[id])\n",
        "\n",
        "    val_left   = np.array(val_left)\n",
        "    val_right  = np.array(val_right)\n",
        "    val_middle = np.array(val_middle)\n",
        "    val_labels = np.array(val_labels)\n",
        "    val_middle = np.expand_dims(val_middle, axis=1)\n",
        "    val_pos_vec=np.array(val_pos_vec)\n",
        "    val_ner_vec=np.array(val_ner_vec)\n",
        "    val_liwc_vec=np.array(val_liwc_vec)\n",
        "    val_empath_vec=np.array(val_empath_vec)\n",
        "\n",
        "    # Below part only for TD lstm\n",
        "    if mode == 'TD':\t    \n",
        "    \ttrain_left = np.concatenate((train_left, train_middle), axis=1)\n",
        "\ttrain_right = np.concatenate((train_middle, train_right), axis=1)\n",
        "    \tval_left = np.concatenate((val_left, val_middle), axis=1)\n",
        "    \tval_right = np.concatenate((val_middle, val_right), axis=1)\n",
        "    return(train_left,train_right,train_middle,train_pos_vec,train_ner_vec,train_liwc_vec,train_empath_vec,train_labels,val_left,val_right,val_middle,val_pos_vec,val_neg_vec,val_liwc_vec,val_empath_vec,val_labels)\n",
        "\n"
      ],
      "execution_count": null,
      "outputs": []
    },
    {
      "cell_type": "code",
      "metadata": {
        "id": "uFHCUy5jLV2e"
      },
      "source": [
        "# Dataset division for 3-fold cross validation\n",
        "indices = list(range(len(comp)))\n",
        "np.random.shuffle(indices)\n",
        "bins = []\n",
        "bins.append(indices[:int(0.33*len(indices))])\n",
        "bins.append(indices[int(0.33*len(indices)):int(0.66*len(indices))])\n",
        "bins.append(indices[int(0.66*len(indices)):])"
      ],
      "execution_count": null,
      "outputs": []
    },
    {
      "cell_type": "code",
      "metadata": {
        "id": "K6hjPEsuN-33"
      },
      "source": [
        "for i in range (3):\n",
        "    print (\"Fold {}\".format(i+1))\n",
        "    print (len(bins[0] + bins[1]),len(bins[2]))\n",
        "    train_left,train_right,train_middle,pos_vec_train,ner_vec_train,liwc_vec_train,empath_vec_train,train_labels,val_left,val_right,val_middle,pos_vec_val,ner_vec_val,liwc_vec_val,empath_vec_val,val_labels = prep (bins[i%3] + bins[(i+1)%3], bins[(i+2)%3])\n",
        "    Sar_model=model(train_left,train_right,train_middle,pos_vec_train,ner_vec_train,liwc_vec_train,empath_vec_train,train_labels,val_left,val_right,val_middle,pos_vec_val,ner_vec_val,liwc_vec_val,empath_vec_val,val_labels,bins[(i+2)%3])\n",
        "    Sar_model.save_weights(\"Bert Tweets Aug.h5\")\n",
        "    print(\"Saved model to disk\")"
      ],
      "execution_count": null,
      "outputs": []
    }
  ]
}